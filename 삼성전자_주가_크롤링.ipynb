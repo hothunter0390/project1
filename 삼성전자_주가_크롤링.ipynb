{
  "nbformat": 4,
  "nbformat_minor": 0,
  "metadata": {
    "colab": {
      "provenance": [],
      "authorship_tag": "ABX9TyPo3s6HuWQi6aixzzQqnvbc",
      "include_colab_link": true
    },
    "kernelspec": {
      "name": "python3",
      "display_name": "Python 3"
    },
    "language_info": {
      "name": "python"
    }
  },
  "cells": [
    {
      "cell_type": "markdown",
      "metadata": {
        "id": "view-in-github",
        "colab_type": "text"
      },
      "source": [
        "<a href=\"https://colab.research.google.com/github/hothunter0390/project1/blob/main/%EC%82%BC%EC%84%B1%EC%A0%84%EC%9E%90_%EC%A3%BC%EA%B0%80_%ED%81%AC%EB%A1%A4%EB%A7%81.ipynb\" target=\"_parent\"><img src=\"https://colab.research.google.com/assets/colab-badge.svg\" alt=\"Open In Colab\"/></a>"
      ]
    },
    {
      "cell_type": "code",
      "source": [
        "import requests\n",
        "from bs4 import BeautifulSoup\n",
        "\n",
        "headers = {'User-Agent':\n",
        "           'Mozilla/5.0 (Windows NT 10.0; Win64; x64) AppleWebKit/537.36 (KHTML, like Gecko) Chrome/116.0.0.0 Safari/537.36'}\n",
        "\n",
        "response2 = requests.get('https://finance.naver.com/item/sise_day.naver?code=005930&page=2', headers=headers)\n",
        "soup = BeautifulSoup(response2.text, 'html.parser')\n",
        "\n",
        "for data in soup.select('table.type2 > tr')[4:]:\n",
        "  if data.select_one('th') == None: #맨 뒤 타이틀이 아니고 -> 7개의 td가 필요하다\n",
        "        print(data.select('td')[0].text)\n",
        "        print(data.select('td.num')[0].text)"
      ],
      "metadata": {
        "colab": {
          "base_uri": "https://localhost:8080/",
          "height": 340
        },
        "id": "3c3mmDLbjh-8",
        "outputId": "437fd5b1-d2d5-4e6f-ab95-02b21710da7a"
      },
      "execution_count": 9,
      "outputs": [
        {
          "output_type": "stream",
          "name": "stdout",
          "text": [
            "2023.08.31\n",
            "66,900\n",
            "2023.08.30\n",
            "67,100\n",
            "2023.08.29\n",
            "66,800\n",
            "\n"
          ]
        },
        {
          "output_type": "error",
          "ename": "IndexError",
          "evalue": "ignored",
          "traceback": [
            "\u001b[0;31m---------------------------------------------------------------------------\u001b[0m",
            "\u001b[0;31mIndexError\u001b[0m                                Traceback (most recent call last)",
            "\u001b[0;32m<ipython-input-9-17fc9d61fc86>\u001b[0m in \u001b[0;36m<cell line: 10>\u001b[0;34m()\u001b[0m\n\u001b[1;32m     11\u001b[0m   \u001b[0;32mif\u001b[0m \u001b[0mdata\u001b[0m\u001b[0;34m.\u001b[0m\u001b[0mselect_one\u001b[0m\u001b[0;34m(\u001b[0m\u001b[0;34m'th'\u001b[0m\u001b[0;34m)\u001b[0m \u001b[0;34m==\u001b[0m \u001b[0;32mNone\u001b[0m\u001b[0;34m:\u001b[0m\u001b[0;34m\u001b[0m\u001b[0;34m\u001b[0m\u001b[0m\n\u001b[1;32m     12\u001b[0m         \u001b[0mprint\u001b[0m\u001b[0;34m(\u001b[0m\u001b[0mdata\u001b[0m\u001b[0;34m.\u001b[0m\u001b[0mselect\u001b[0m\u001b[0;34m(\u001b[0m\u001b[0;34m'td'\u001b[0m\u001b[0;34m)\u001b[0m\u001b[0;34m[\u001b[0m\u001b[0;36m0\u001b[0m\u001b[0;34m]\u001b[0m\u001b[0;34m.\u001b[0m\u001b[0mtext\u001b[0m\u001b[0;34m)\u001b[0m\u001b[0;34m\u001b[0m\u001b[0;34m\u001b[0m\u001b[0m\n\u001b[0;32m---> 13\u001b[0;31m         \u001b[0mprint\u001b[0m\u001b[0;34m(\u001b[0m\u001b[0mdata\u001b[0m\u001b[0;34m.\u001b[0m\u001b[0mselect\u001b[0m\u001b[0;34m(\u001b[0m\u001b[0;34m'td.num'\u001b[0m\u001b[0;34m)\u001b[0m\u001b[0;34m[\u001b[0m\u001b[0;36m0\u001b[0m\u001b[0;34m]\u001b[0m\u001b[0;34m.\u001b[0m\u001b[0mtext\u001b[0m\u001b[0;34m)\u001b[0m\u001b[0;34m\u001b[0m\u001b[0;34m\u001b[0m\u001b[0m\n\u001b[0m",
            "\u001b[0;31mIndexError\u001b[0m: list index out of range"
          ]
        }
      ]
    },
    {
      "cell_type": "code",
      "execution_count": 24,
      "metadata": {
        "colab": {
          "base_uri": "https://localhost:8080/"
        },
        "id": "DNozn9SLfaX7",
        "outputId": "775be468-2a0d-4f0c-8d52-5d45f68b8ebc"
      },
      "outputs": [
        {
          "output_type": "stream",
          "name": "stdout",
          "text": [
            "[('2023.08.01', '71,100'), ('2023.08.02', '69,900'), ('2023.08.03', '68,800'), ('2023.08.04', '68,300'), ('2023.08.07', '68,500'), ('2023.08.08', '67,600'), ('2023.08.09', '68,900'), ('2023.08.10', '68,000'), ('2023.08.11', '67,500'), ('2023.08.14', '67,300'), ('2023.08.16', '67,000'), ('2023.08.17', '66,700'), ('2023.08.18', '66,300'), ('2023.08.21', '66,600'), ('2023.08.22', '66,600'), ('2023.08.23', '67,100'), ('2023.08.24', '68,200'), ('2023.08.25', '67,100'), ('2023.08.28', '66,800'), ('2023.08.29', '66,800'), ('2023.08.30', '67,100'), ('2023.08.31', '66,900')]\n",
            "/bin/bash: line 1: get: command not found\n"
          ]
        }
      ],
      "source": [
        "import requests\n",
        "from bs4 import BeautifulSoup\n",
        "\n",
        "headers = {'User-Agent':\n",
        "           'Mozilla/5.0 (Windows NT 10.0; Win64; x64) AppleWebKit/537.36 (KHTML, like Gecko) Chrome/116.0.0.0 Safari/537.36'}\n",
        "\n",
        "\n",
        "## 한번에 for 문으로 2,3,4페이지를 추출하지 못할 것 같으니 나눠서 해보자\n",
        "\n",
        "\n",
        "data_list = []\n",
        "\n",
        "\n",
        "#1) 4페이지\n",
        "response1 = requests.get('https://finance.naver.com/item/sise_day.naver?code=005930&page=4', headers=headers)\n",
        "soup = BeautifulSoup(response1.text, 'html.parser')\n",
        "\n",
        "for data in soup.select('table.type2 > tr')[2:6]: #2,3,4,5 인덱스 추출\n",
        "    if data.select_one('th') == None and len(data.select('td')) == 7: #테이블헤드 아니고, td를 7개 갖고 있어야함\n",
        "        date = data.select('td')[0].text #날짜\n",
        "        price = data.select('td.num')[0].text #종가\n",
        "        data_list.append((date, price))\n",
        "\n",
        "#2) 3페이지\n",
        "response2 = requests.get('https://finance.naver.com/item/sise_day.naver?code=005930&page=3', headers=headers)\n",
        "soup = BeautifulSoup(response2.text, 'html.parser')\n",
        "\n",
        "for data in soup.select('table.type2 > tr'):\n",
        "    if data.select_one('th') == None and len(data.select('td')) == 7:\n",
        "        date = data.select('td')[0].text\n",
        "        price = data.select('td.num')[0].text\n",
        "        data_list.append((date, price))\n",
        "\n",
        "\n",
        "#3) 2페이지\n",
        "response3 = requests.get('https://finance.naver.com/item/sise_day.naver?code=005930&page=2', headers=headers)\n",
        "soup = BeautifulSoup(response3.text, 'html.parser')\n",
        "\n",
        "for data in soup.select('table.type2 > tr')[4:]: #8.31일 밑으로\n",
        "    if data.select_one('th') == None and len(data.select('td')) == 7:\n",
        "        date = data.select('td')[0].text\n",
        "        price = data.select('td.num')[0].text\n",
        "        data_list.append((date, price))\n",
        "\n",
        "data_list.sort()\n",
        "print(data_list)\n",
        "\n",
        "\n",
        "\n"
      ]
    },
    {
      "cell_type": "code",
      "source": [
        "!git clone https://github.com/hothunter0390/project1.git"
      ],
      "metadata": {
        "colab": {
          "base_uri": "https://localhost:8080/"
        },
        "id": "0faTvXamnEHo",
        "outputId": "0b42835e-5040-4266-ea5e-8b6a19514bd7"
      },
      "execution_count": 26,
      "outputs": [
        {
          "output_type": "stream",
          "name": "stdout",
          "text": [
            "Cloning into 'project1'...\n",
            "remote: Enumerating objects: 12, done.\u001b[K\n",
            "remote: Counting objects: 100% (12/12), done.\u001b[K\n",
            "remote: Compressing objects: 100% (8/8), done.\u001b[K\n",
            "remote: Total 12 (delta 0), reused 12 (delta 0), pack-reused 0\u001b[K\n",
            "Receiving objects: 100% (12/12), done.\n"
          ]
        }
      ]
    },
    {
      "cell_type": "code",
      "source": [],
      "metadata": {
        "id": "ibjxXpqjsoRi"
      },
      "execution_count": null,
      "outputs": []
    }
  ]
}